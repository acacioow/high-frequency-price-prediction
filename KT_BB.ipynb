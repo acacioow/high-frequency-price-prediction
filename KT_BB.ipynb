{
  "cells": [
    {
      "cell_type": "code",
      "execution_count": null,
      "metadata": {
        "id": "J9AJatNzhSYt"
      },
      "outputs": [],
      "source": [
        "#Keras-Tuner\n",
        "!pip install -q -U keras-tuner"
      ]
    },
    {
      "cell_type": "code",
      "execution_count": null,
      "metadata": {
        "id": "6EwKTBq_kCap"
      },
      "outputs": [],
      "source": [
        "import numpy as np \n",
        "import pandas as pd \n",
        "import matplotlib.pyplot as plt \n",
        "import seaborn as sns \n",
        "%matplotlib inline\n",
        "import os\n",
        "\n",
        "from sklearn.model_selection import train_test_split\n",
        "from sklearn.metrics import confusion_matrix\n",
        "from sklearn.metrics import classification_report\n",
        "from google.colab import drive\n",
        "\n",
        "import tensorflow as tf\n",
        "from tensorflow import keras\n",
        "from tensorflow.keras import layers\n",
        "from tensorflow.keras.layers import LSTM, Dropout\n",
        "from keras import Sequential, layers\n",
        "import kerastuner as kt"
      ]
    },
    {
      "cell_type": "code",
      "execution_count": null,
      "metadata": {
        "id": "ZRbOmDYZktqJ",
        "colab": {
          "base_uri": "https://localhost:8080/"
        },
        "outputId": "3a77780f-b0c9-4cb1-8e0e-539eb428c8c4"
      },
      "outputs": [
        {
          "output_type": "stream",
          "name": "stdout",
          "text": [
            "Drive already mounted at /content/drive; to attempt to forcibly remount, call drive.mount(\"/content/drive\", force_remount=True).\n"
          ]
        }
      ],
      "source": [
        "drive.mount('/content/drive')\n",
        "path = '/content/drive/MyDrive/LOBster/MSFT'\n",
        "\n",
        "os.chdir(path)"
      ]
    },
    {
      "cell_type": "code",
      "execution_count": null,
      "metadata": {
        "id": "joAxTNl9l0vA"
      },
      "outputs": [],
      "source": [
        "df = pd.read_csv(\"data_msft_ta.csv\")\n",
        "df.dropna(inplace=True)"
      ]
    },
    {
      "cell_type": "code",
      "execution_count": null,
      "metadata": {
        "id": "6ifrhEaPowry"
      },
      "outputs": [],
      "source": [
        "X = df.filter(['BB_MA', 'BB_High', 'BB_Low', 'Price'])\n",
        "y = df.filter(['Price'])"
      ]
    },
    {
      "cell_type": "code",
      "execution_count": null,
      "metadata": {
        "id": "Gmz6hfdlsE3L"
      },
      "outputs": [],
      "source": [
        "X_train, X_test, y_train, y_test = train_test_split(X, y, test_size=0.2, stratify=y, random_state=1234)"
      ]
    },
    {
      "cell_type": "code",
      "execution_count": null,
      "metadata": {
        "id": "eaPzGuBIhV0q"
      },
      "outputs": [],
      "source": [
        "def model_builder(hp):\n",
        "    model = keras.Sequential()\n",
        "    model.add(LSTM(units=hp.Int('hp_units_1', min_value=4, max_value=128, step=4),\n",
        "                   activation='relu', input_shape=[X_train.shape[1], 4]))\n",
        "    \n",
        "    for i in range(2, 5):\n",
        "        model.add(Dropout(0.20))\n",
        "        model.add(LSTM(units=hp.Int('hp_units_' + str(i),\n",
        "                                    min_value=4, max_value=128, step=4),\n",
        "                       activation='relu'))\n",
        "    \n",
        "    model.add(layers.Dense(units=1, activation='linear'))  # Output layer\n",
        "    # Set the loss function to root mean squared error (RMSE)\n",
        "    loss = tf.keras.losses.MeanSquaredError()\n",
        "\n",
        "    model.compile(optimizer=keras.optimizers.Adam(learning_rate=hp.Float('learning_rate', 1e-4, 1e-2, sampling='log')),\n",
        "                  loss=loss, metrics=['mape', tf.keras.metrics.RootMeanSquaredError()])\n",
        "    \n",
        "    return model"
      ]
    },
    {
      "cell_type": "code",
      "execution_count": null,
      "metadata": {
        "id": "le8ZANafkBh4"
      },
      "outputs": [],
      "source": [
        "tuner = kt.Hyperband(model_builder,\n",
        "                     objective='val_mean_absolute_error',\n",
        "                     max_epochs=50,\n",
        "                     factor=3,\n",
        "                     directory='KERAS-TUNER',\n",
        "                     project_name='LSTM_PRICE_ONLY')"
      ]
    },
    {
      "cell_type": "code",
      "execution_count": null,
      "metadata": {
        "id": "QKF3rpxus1tM"
      },
      "outputs": [],
      "source": [
        "stop_early = tf.keras.callbacks.EarlyStopping(monitor='val_loss', patience=5)"
      ]
    },
    {
      "cell_type": "code",
      "execution_count": null,
      "metadata": {
        "id": "--bacrV4s3O2"
      },
      "outputs": [],
      "source": [
        "tuner.search(X_train, y_train, \n",
        "             batch_size=64,\n",
        "             epochs=50, \n",
        "             validation_split=0.2, \n",
        "             callbacks=[stop_early])\n",
        "\n",
        "# Get the optimal hyperparameters\n",
        "best_hps=tuner.get_best_hyperparameters(num_trials=1)[0]"
      ]
    },
    {
      "cell_type": "code",
      "execution_count": null,
      "metadata": {
        "colab": {
          "base_uri": "https://localhost:8080/"
        },
        "id": "BfkaalQ8uGza",
        "outputId": "ff0956a2-548e-49b3-ff78-a5855ee5ce4b"
      },
      "outputs": [
        {
          "output_type": "stream",
          "name": "stdout",
          "text": [
            "\n",
            "The hyperparameter search is complete.\n",
            "\n",
            "The optimal learning rate for the optimizer is 0.001.\n",
            "\n",
            "Best layers units: \n",
            "\n",
            "Layer:  1  ,  36  units\n",
            "Layer:  2  ,  116  units\n",
            "Layer:  3  ,  224  units\n",
            "Layer:  4  ,  48  units\n"
          ]
        }
      ],
      "source": [
        "print(f\"\"\"\n",
        "The hyperparameter search is complete.\n",
        "\n",
        "The optimal learning rate for the optimizer is {best_hps.get('learning_rate')}.\n",
        "\"\"\")\n",
        "\n",
        "print('Best layers units: \\n')\n",
        "for i in range(2,6):\n",
        "  print('Layer: ', i-1, ' , ', best_hps.get('hp_units_' + str(i)), ' units')"
      ]
    }
  ],
  "metadata": {
    "colab": {
      "provenance": []
    },
    "kernelspec": {
      "display_name": "Python 3",
      "name": "python3"
    },
    "language_info": {
      "name": "python"
    }
  },
  "nbformat": 4,
  "nbformat_minor": 0
}